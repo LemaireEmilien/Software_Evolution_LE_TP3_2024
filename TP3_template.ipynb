{
 "cells": [
  {
   "cell_type": "code",
   "execution_count": 169,
   "id": "f5ed66c1",
   "metadata": {},
   "outputs": [],
   "source": [
    "import os"
   ]
  },
  {
   "cell_type": "code",
   "execution_count": 170,
   "id": "ef9cc5cb-3ce4-4e59-abd5-75785e4eb067",
   "metadata": {},
   "outputs": [],
   "source": [
    "import pandas as pd\n",
    "from pandas import option_context\n",
    "import numpy as np\n",
    "import requests\n",
    "import seaborn as sns\n",
    "import datetime\n",
    "import cliffsDelta as cd\n",
    "\n",
    "from tqdm import tqdm\n",
    "from statsmodels.stats.inter_rater import fleiss_kappa,aggregate_raters\n",
    "from scipy.stats import mannwhitneyu,shapiro,ttest_ind"
   ]
  },
  {
   "cell_type": "code",
   "execution_count": 171,
   "id": "67f34e37-48e6-4033-b30f-5ba256427f26",
   "metadata": {},
   "outputs": [],
   "source": [
    "QUERY_ROOT = \"https://api.github.com\"\n",
    "TOKEN = os.getenv(\"TOKEN\") # write your GitHub API key here\n",
    "HEADERS={'Authorization':'token '+TOKEN}"
   ]
  },
  {
   "cell_type": "markdown",
   "id": "8095c72b-abe2-46b8-9034-1d9c7d98d3ad",
   "metadata": {},
   "source": [
    "## Section 3"
   ]
  },
  {
   "cell_type": "markdown",
   "id": "01c6e0c3-b012-4f00-a033-ddf3b74747c7",
   "metadata": {},
   "source": [
    "### Question 1"
   ]
  },
  {
   "cell_type": "markdown",
   "id": "2a3cc77d-eedd-4b5a-a560-b17a5a2b4cc4",
   "metadata": {},
   "source": [
    "#### Write an automated Python script to identify the GitHub Apps in the list of accounts, by calling the GitHub Users API and extracting the required information to make this decision. \n",
    "\n",
    "#### More information: You can search for the \"type\" key in the obtianed JSON result, If it is \"Bot\", then it is an app, if it is \"User\", then it is an account."
   ]
  },
  {
   "cell_type": "code",
   "execution_count": 172,
   "id": "2d0275f0-5c13-42ea-9025-5ea307d6398d",
   "metadata": {},
   "outputs": [
    {
     "name": "stdout",
     "output_type": "stream",
     "text": [
      "                             contributor bothunter\n",
      "0                                matbech     Human\n",
      "1                         oxygen-dioxide     Human\n",
      "2                                  gertd     Human\n",
      "3                           babblebauble     Human\n",
      "4                               mecgmecg     Human\n",
      "5                        DattatreyaReddy     Human\n",
      "6                              wingetbot       Bot\n",
      "7                              Cyberboss     Human\n",
      "8                        Rust-Winget-Bot       Bot\n",
      "9   microsoft-github-policy-service[bot]       Bot\n",
      "10                  LeonGungadinMogensen       Bot\n",
      "11                         TheBossMagnus     Human\n",
      "12                               erikbra     Human\n",
      "13                               MabelYT     Human\n",
      "14                               Alphrag     Human\n",
      "15                            Dragon1573     Human\n",
      "16                                 doms9       Bot\n",
      "17                              prql-bot       Bot\n",
      "18                                 pxwiz     Human\n",
      "19                            jnichols35     Human\n",
      "20                          ClementTsang     Human\n",
      "21                              kbdharun     Human\n",
      "22                     dotnet-winget-bot       Bot\n",
      "23                            Witchilich     Human\n",
      "24   momento-github-actions-machine-user       Bot\n",
      "25                                ousugo     Human\n",
      "26                              anamnavi     Human\n",
      "27                                 tiksn     Human\n",
      "28                              BiosPlus     Human\n",
      "29                              chausner     Human\n",
      "30                          SpecterShell     Human\n",
      "31                          Masamune3210     Human\n",
      "32                              matracey     Human\n",
      "33                             azure-sdk       Bot\n",
      "34                           rsteube-bot       Bot\n",
      "35                             nebula-it     Human\n",
      "36                            JamieMagee     Human\n",
      "37                     blockstack-devops       Bot\n",
      "38                             ryfu-msft     Human\n",
      "39                              PckgrBot       Bot\n"
     ]
    }
   ],
   "source": [
    "# 1. Read the given .csv file into a pandas DataFrame (df).\n",
    "# 2. Make sure there are 2 columns, one column name is \"contributor\" that has the name of the contributor, \n",
    "#    and another column name is \"bothunter\" that you will use later on in this assignment.\n",
    "# 3. Display the DataFrame.\n",
    "\n",
    "# YOUR CODE BELOW\n",
    "df = pd.read_csv('microsoft_winget-pkgs_1/microsoft_winget-pkgs_1.csv')\n",
    "df.columns = ['contributor','bothunter']\n",
    "print(df)\n",
    "\n"
   ]
  },
  {
   "cell_type": "code",
   "execution_count": 173,
   "id": "f9312364-57d3-4f26-a216-82a22eea8349",
   "metadata": {},
   "outputs": [
    {
     "name": "stdout",
     "output_type": "stream",
     "text": [
      "['matbech', 'oxygen-dioxide', 'gertd', 'babblebauble', 'mecgmecg', 'DattatreyaReddy', 'wingetbot', 'Cyberboss', 'Rust-Winget-Bot', 'microsoft-github-policy-service[bot]', 'LeonGungadinMogensen', 'TheBossMagnus', 'erikbra', 'MabelYT', 'Alphrag', 'Dragon1573', 'doms9', 'prql-bot', 'pxwiz', 'jnichols35', 'ClementTsang', 'kbdharun', 'dotnet-winget-bot', 'Witchilich', 'momento-github-actions-machine-user', 'ousugo', 'anamnavi', 'tiksn', 'BiosPlus', 'chausner', 'SpecterShell', 'Masamune3210', 'matracey', 'azure-sdk', 'rsteube-bot', 'nebula-it', 'JamieMagee', 'blockstack-devops', 'ryfu-msft', 'PckgrBot']\n"
     ]
    }
   ],
   "source": [
    "# 1. Store the names of the contributors in a list using the code snippet: 'df.contributor.to_list()'\n",
    "# 2. print the list\n",
    "\n",
    "# YOUR CODE BELOW\n",
    "contributors = df.contributor.to_list()\n",
    "print(contributors)"
   ]
  },
  {
   "cell_type": "code",
   "execution_count": 174,
   "id": "2cd6ab44-f113-466a-863c-862674798f4c",
   "metadata": {},
   "outputs": [
    {
     "name": "stdout",
     "output_type": "stream",
     "text": [
      "                             contributor    app\n",
      "0                                matbech  False\n",
      "1                         oxygen-dioxide  False\n",
      "2                                  gertd  False\n",
      "3                           babblebauble  False\n",
      "4                               mecgmecg  False\n",
      "5                        DattatreyaReddy  False\n",
      "6                              wingetbot  False\n",
      "7                              Cyberboss  False\n",
      "8                        Rust-Winget-Bot  False\n",
      "9   microsoft-github-policy-service[bot]   True\n",
      "10                  LeonGungadinMogensen  False\n",
      "11                         TheBossMagnus  False\n",
      "12                               erikbra  False\n",
      "13                               MabelYT  False\n",
      "14                               Alphrag  False\n",
      "15                            Dragon1573  False\n",
      "16                                 doms9  False\n",
      "17                              prql-bot  False\n",
      "18                                 pxwiz  False\n",
      "19                            jnichols35  False\n",
      "20                          ClementTsang  False\n",
      "21                              kbdharun  False\n",
      "22                     dotnet-winget-bot  False\n",
      "23                            Witchilich  False\n",
      "24   momento-github-actions-machine-user  False\n",
      "25                                ousugo  False\n",
      "26                              anamnavi  False\n",
      "27                                 tiksn  False\n",
      "28                              BiosPlus  False\n",
      "29                              chausner  False\n",
      "30                          SpecterShell  False\n",
      "31                          Masamune3210  False\n",
      "32                              matracey  False\n",
      "33                             azure-sdk  False\n",
      "34                           rsteube-bot  False\n",
      "35                             nebula-it  False\n",
      "36                            JamieMagee  False\n",
      "37                     blockstack-devops  False\n",
      "38                             ryfu-msft  False\n",
      "39                              PckgrBot  False\n"
     ]
    }
   ],
   "source": [
    "# 1. Using a for loop, iterate over each contributor in the list and query the GitHub Users API.\n",
    "#    You can use \"query = f'{QUERY_ROOT}/users/{contributor}'\", where QUERY_ROOT is defined at the beginning of this notebook \n",
    "#    above and 'contributor' is each individul contributor from the list\n",
    "# 2. Get the response using 'response = requests.get(query, headers=HEADERS)'.\n",
    "# 3. convert the response to JSON using 'json_response = response.json()'.\n",
    "# 4. Iterate over this JSON response and get the value of the 'type' key. If it is \"Bot\" then the contributor is an App, \n",
    "#    if \"User\" then the contributor is an account. You should boolean values to indicate if the contributor is an App (True) or User/Organisation (False)\n",
    "# 5. Save these results in list of dictionary of the form [{'contributor': <contributor name>, 'app': <boolean value>}, {...}, {...}, {...}].\n",
    "#    Lets call this list as \"app_list_dict\"\n",
    "# 6. Finally convert this list of dictionary to DataFrame by writing 'pd.DataFrame.from_dict(app_dict)'\n",
    "# 7. Display the DataFrame. This should have two columns - contributor and app\n",
    "\n",
    "# YOUR CODE BELOW\n",
    "app_dict = []\n",
    "for contributor in contributors:\n",
    "    query = f'{QUERY_ROOT}/users/{contributor}'\n",
    "    response = requests.get(query, headers=HEADERS)\n",
    "    json_response = response.json()\n",
    "    if json_response['type'] == 'Bot':\n",
    "        app_dict.append({'contributor':contributor,'app':True})\n",
    "    else:\n",
    "        app_dict.append({'contributor':contributor,'app':False})\n",
    "app_df = pd.DataFrame.from_dict(app_dict)\n",
    "print(app_df)"
   ]
  },
  {
   "cell_type": "markdown",
   "id": "bf7a784f-8b41-488b-8034-7f66ed9b6d97",
   "metadata": {},
   "source": [
    "### Question 2\n",
    "\n",
    "#### Add an app column in the CSV file to store this information. You can write True if it is an app and False if it is not.\n"
   ]
  },
  {
   "cell_type": "code",
   "execution_count": 175,
   "id": "242398c5-d3ae-472f-99e8-ac86be7897c2",
   "metadata": {},
   "outputs": [
    {
     "name": "stdout",
     "output_type": "stream",
     "text": [
      "                             contributor bothunter    app\n",
      "0                                matbech     Human  False\n",
      "1                         oxygen-dioxide     Human  False\n",
      "2                                  gertd     Human  False\n",
      "3                           babblebauble     Human  False\n",
      "4                               mecgmecg     Human  False\n",
      "5                        DattatreyaReddy     Human  False\n",
      "6                              wingetbot       Bot  False\n",
      "7                              Cyberboss     Human  False\n",
      "8                        Rust-Winget-Bot       Bot  False\n",
      "9   microsoft-github-policy-service[bot]       Bot   True\n",
      "10                  LeonGungadinMogensen       Bot  False\n",
      "11                         TheBossMagnus     Human  False\n",
      "12                               erikbra     Human  False\n",
      "13                               MabelYT     Human  False\n",
      "14                               Alphrag     Human  False\n",
      "15                            Dragon1573     Human  False\n",
      "16                                 doms9       Bot  False\n",
      "17                              prql-bot       Bot  False\n",
      "18                                 pxwiz     Human  False\n",
      "19                            jnichols35     Human  False\n",
      "20                          ClementTsang     Human  False\n",
      "21                              kbdharun     Human  False\n",
      "22                     dotnet-winget-bot       Bot  False\n",
      "23                            Witchilich     Human  False\n",
      "24   momento-github-actions-machine-user       Bot  False\n",
      "25                                ousugo     Human  False\n",
      "26                              anamnavi     Human  False\n",
      "27                                 tiksn     Human  False\n",
      "28                              BiosPlus     Human  False\n",
      "29                              chausner     Human  False\n",
      "30                          SpecterShell     Human  False\n",
      "31                          Masamune3210     Human  False\n",
      "32                              matracey     Human  False\n",
      "33                             azure-sdk       Bot  False\n",
      "34                           rsteube-bot       Bot  False\n",
      "35                             nebula-it     Human  False\n",
      "36                            JamieMagee     Human  False\n",
      "37                     blockstack-devops       Bot  False\n",
      "38                             ryfu-msft     Human  False\n",
      "39                              PckgrBot       Bot  False\n"
     ]
    }
   ],
   "source": [
    "# Merge the app DataFrame to df by writing 'pd.merge(df, <app df>, on='contributor'). This is similar to SQL join on primary key 'contributor'.\n",
    "# The resultant df should have 3 columns - contributor, bothunter and app.\n",
    "\n",
    "# YOUR CODE BELOW\n",
    "df = pd.merge(df,app_df,on='contributor')\n",
    "print(df)"
   ]
  },
  {
   "cell_type": "markdown",
   "id": "db9ba7d8-7a6f-4485-8e7b-bc5a00646021",
   "metadata": {},
   "source": [
    "### Question 3\n",
    "\n",
    "#### Report on the total number of GitHub Apps, and User accounts present in the list of accounts of your dataset."
   ]
  },
  {
   "cell_type": "code",
   "execution_count": 176,
   "id": "3092d616-2426-417a-95be-7f54f1124eff",
   "metadata": {},
   "outputs": [
    {
     "name": "stdout",
     "output_type": "stream",
     "text": [
      "Total GitHub Apps: 1\n",
      "Total User accounts: 39\n"
     ]
    }
   ],
   "source": [
    "app_counts = df['app'].value_counts()\n",
    "total_apps = app_counts[True]\n",
    "total_users = app_counts[False]\n",
    "print(\"Total GitHub Apps:\", total_apps)\n",
    "print(\"Total User accounts:\", total_users)\n"
   ]
  },
  {
   "cell_type": "markdown",
   "id": "406e178f-2b41-4758-b075-e2eea47f3991",
   "metadata": {},
   "source": [
    "## Section 4"
   ]
  },
  {
   "cell_type": "markdown",
   "id": "a05bb032-1b55-402e-8074-42f2210f3a16",
   "metadata": {},
   "source": [
    "### Question 1"
   ]
  },
  {
   "cell_type": "markdown",
   "id": "48285de2-8b3a-481a-bf93-b99295ba8a4a",
   "metadata": {},
   "source": [
    "#### Write an automated script to report on the prediction of the GitHub accounts in your dataset, using BoDeGHa and RABBIT bot identification tools. For each tool, your script should add an extra column to the CSV ﬁle of your dataset, reporting the prediction (bot, human, unknown) of the considered tool on the considered account."
   ]
  },
  {
   "cell_type": "markdown",
   "id": "35d19172-9890-4706-93a1-663c8b2d28bd",
   "metadata": {},
   "source": [
    "#### More information:\n",
    "You can write an automated script to execute BoDeGHa and RABBIT, and save the results in a DataFrame. For BoDeGHa, you can ask the tool to give the output in CSV format, save it as a csv file and read it in a DataFrame. For RABBIT, you can use its internal argument to store the results in a .csv file and read it in a DataFrame. Remember to read their Documentation (Readme.md) for their input arguments and example outputs before using these tools.  \n",
    "Similar to what you did in Section 2 - Question 1 and 2, add an additional column named 'bodegha' to store the predictions \n",
    "given by BoDeGHa and add another column called 'rabbit' to store the preditions given by RABBIT. "
   ]
  },
  {
   "cell_type": "code",
   "execution_count": 177,
   "id": "ee4006c3-796d-4a7a-9b97-ec5007cc0680",
   "metadata": {},
   "outputs": [
    {
     "name": "stdout",
     "output_type": "stream",
     "text": [
      "                             contributor bodegha\n",
      "0                                Alphrag     Bot\n",
      "1                               BiosPlus     Bot\n",
      "2                              Cyberboss     Bot\n",
      "3                        DattatreyaReddy     Bot\n",
      "4                   LeonGungadinMogensen     Bot\n",
      "5                               PckgrBot     Bot\n",
      "6                        Rust-Winget-Bot     Bot\n",
      "7                           SpecterShell     Bot\n",
      "8                               anamnavi     Bot\n",
      "9                              azure-sdk     Bot\n",
      "10                          babblebauble     Bot\n",
      "11                                 doms9     Bot\n",
      "12                     dotnet-winget-bot     Bot\n",
      "13                                 gertd     Bot\n",
      "14                            jnichols35     Bot\n",
      "15                              kbdharun     Bot\n",
      "16                               matbech     Bot\n",
      "17                              matracey     Bot\n",
      "18                              mecgmecg     Bot\n",
      "19  microsoft-github-policy-service[bot]     Bot\n",
      "20                             nebula-it     Bot\n",
      "21                                 pxwiz     Bot\n",
      "22                           rsteube-bot     Bot\n",
      "23                             ryfu-msft     Bot\n",
      "24                             wingetbot     Bot\n",
      "25                            Dragon1573   Human\n",
      "26                          Masamune3210   Human\n"
     ]
    }
   ],
   "source": [
    "# Read the .csv file that has the predicitons given by BoDeGHa.\n",
    "\n",
    "# YOUR CODE BELOW\n",
    "bodegha_df = pd.read_csv('microsoft_winget-pkgs_1/bodegha_predictions.csv')\n",
    "print(bodegha_df)\n"
   ]
  },
  {
   "cell_type": "code",
   "execution_count": 178,
   "id": "fd79d43a-902d-49f9-8ab4-2ca78e5f4393",
   "metadata": {},
   "outputs": [
    {
     "name": "stdout",
     "output_type": "stream",
     "text": [
      "                             contributor bothunter    app  bodegha\n",
      "0                                matbech     Human  False      Bot\n",
      "1                         oxygen-dioxide     Human  False  Unknown\n",
      "2                                  gertd     Human  False      Bot\n",
      "3                           babblebauble     Human  False      Bot\n",
      "4                               mecgmecg     Human  False      Bot\n",
      "5                        DattatreyaReddy     Human  False      Bot\n",
      "6                              wingetbot       Bot  False      Bot\n",
      "7                              Cyberboss     Human  False      Bot\n",
      "8                        Rust-Winget-Bot       Bot  False      Bot\n",
      "9   microsoft-github-policy-service[bot]       Bot   True      Bot\n",
      "10                  LeonGungadinMogensen       Bot  False      Bot\n",
      "11                         TheBossMagnus     Human  False  Unknown\n",
      "12                               erikbra     Human  False  Unknown\n",
      "13                               MabelYT     Human  False  Unknown\n",
      "14                               Alphrag     Human  False      Bot\n",
      "15                            Dragon1573     Human  False    Human\n",
      "16                                 doms9       Bot  False      Bot\n",
      "17                              prql-bot       Bot  False  Unknown\n",
      "18                                 pxwiz     Human  False      Bot\n",
      "19                            jnichols35     Human  False      Bot\n",
      "20                          ClementTsang     Human  False  Unknown\n",
      "21                              kbdharun     Human  False      Bot\n",
      "22                     dotnet-winget-bot       Bot  False      Bot\n",
      "23                            Witchilich     Human  False  Unknown\n",
      "24   momento-github-actions-machine-user       Bot  False  Unknown\n",
      "25                                ousugo     Human  False  Unknown\n",
      "26                              anamnavi     Human  False      Bot\n",
      "27                                 tiksn     Human  False  Unknown\n",
      "28                              BiosPlus     Human  False      Bot\n",
      "29                              chausner     Human  False  Unknown\n",
      "30                          SpecterShell     Human  False      Bot\n",
      "31                          Masamune3210     Human  False    Human\n",
      "32                              matracey     Human  False      Bot\n",
      "33                             azure-sdk       Bot  False      Bot\n",
      "34                           rsteube-bot       Bot  False      Bot\n",
      "35                             nebula-it     Human  False      Bot\n",
      "36                            JamieMagee     Human  False  Unknown\n",
      "37                     blockstack-devops       Bot  False  Unknown\n",
      "38                             ryfu-msft     Human  False      Bot\n",
      "39                              PckgrBot       Bot  False      Bot\n"
     ]
    }
   ],
   "source": [
    "# merge it to df - Now your df should have the following four columns - contributor, bothunter, app, bodegha\n",
    "\n",
    "# YOUR CODE BELOW\n",
    "df = pd.merge(df,bodegha_df,how='left',on='contributor')\n",
    "df['bodegha'] = df['bodegha'].fillna('Unknown')\n",
    "\n",
    "print(df)\n",
    "\n"
   ]
  },
  {
   "cell_type": "code",
   "execution_count": 179,
   "id": "bf49eb15-f5b7-4543-a1e7-056c1f6205cf",
   "metadata": {},
   "outputs": [
    {
     "name": "stdout",
     "output_type": "stream",
     "text": [
      "    Unnamed: 0                           contributor   rabbit  confidence\n",
      "0            0                               matbech      bot       0.283\n",
      "1            1                        oxygen-dioxide    human       0.999\n",
      "2            2                                 gertd    human       0.999\n",
      "3            3                          babblebauble      bot       0.484\n",
      "4            4                              mecgmecg  unknown         NaN\n",
      "5            5                       DattatreyaReddy    human       0.997\n",
      "6            6                             wingetbot      bot       0.999\n",
      "7            7                             Cyberboss    human       0.999\n",
      "8            8                       Rust-Winget-Bot      bot       0.998\n",
      "9            9  microsoft-github-policy-service[bot]      app       1.000\n",
      "10          10                  LeonGungadinMogensen      bot       0.958\n",
      "11          11                         TheBossMagnus    human       0.999\n",
      "12          12                               erikbra    human       0.999\n",
      "13          13                               MabelYT    human       0.991\n",
      "14          14                               Alphrag    human       0.312\n",
      "15          15                            Dragon1573    human       0.999\n",
      "16          16                                 doms9    human       0.363\n",
      "17          17                              prql-bot      bot       0.999\n",
      "18          18                                 pxwiz    human       0.968\n",
      "19          19                            jnichols35    human       0.998\n",
      "20          20                          ClementTsang    human       0.999\n",
      "21          21                              kbdharun    human       0.998\n",
      "22          22                     dotnet-winget-bot      bot       0.974\n",
      "23          23                            Witchilich    human       0.644\n",
      "24          24   momento-github-actions-machine-user      bot       0.883\n",
      "25          25                                ousugo      bot       0.551\n",
      "26          26                              anamnavi    human       0.989\n",
      "27          27                                 tiksn    human       0.975\n",
      "28          28                              BiosPlus      bot       0.108\n",
      "29          29                              chausner    human       0.999\n",
      "30          30                          SpecterShell      bot       0.987\n",
      "31          31                          Masamune3210    human       0.999\n",
      "32          32                              matracey    human       0.999\n",
      "33          33                             azure-sdk      bot       0.995\n",
      "34          34                           rsteube-bot      bot       0.955\n",
      "35          35                             nebula-it    human       0.933\n",
      "36          36                            JamieMagee    human       1.000\n",
      "37          37                     blockstack-devops      bot       0.691\n",
      "38          38                             ryfu-msft    human       0.999\n",
      "39          39                              PckgrBot      bot       0.751\n"
     ]
    }
   ],
   "source": [
    "# Read the predictions given by RABBIT from the corresponding .csv file \n",
    "\n",
    "# YOUR CODE BELOW\n",
    "rabbit_df = pd.read_csv('microsoft_winget-pkgs_1/rabbit_predictions.csv')\n",
    "print(rabbit_df)\n"
   ]
  },
  {
   "cell_type": "code",
   "execution_count": 180,
   "id": "43877324-9c86-42f3-a109-bda2565dab87",
   "metadata": {},
   "outputs": [
    {
     "name": "stdout",
     "output_type": "stream",
     "text": [
      "                             contributor bothunter    app  bodegha   rabbit\n",
      "0                                matbech     Human  False      Bot      bot\n",
      "1                         oxygen-dioxide     Human  False  Unknown    human\n",
      "2                                  gertd     Human  False      Bot    human\n",
      "3                           babblebauble     Human  False      Bot      bot\n",
      "4                               mecgmecg     Human  False      Bot  unknown\n",
      "5                        DattatreyaReddy     Human  False      Bot    human\n",
      "6                              wingetbot       Bot  False      Bot      bot\n",
      "7                              Cyberboss     Human  False      Bot    human\n",
      "8                        Rust-Winget-Bot       Bot  False      Bot      bot\n",
      "9   microsoft-github-policy-service[bot]       Bot   True      Bot      app\n",
      "10                  LeonGungadinMogensen       Bot  False      Bot      bot\n",
      "11                         TheBossMagnus     Human  False  Unknown    human\n",
      "12                               erikbra     Human  False  Unknown    human\n",
      "13                               MabelYT     Human  False  Unknown    human\n",
      "14                               Alphrag     Human  False      Bot    human\n",
      "15                            Dragon1573     Human  False    Human    human\n",
      "16                                 doms9       Bot  False      Bot    human\n",
      "17                              prql-bot       Bot  False  Unknown      bot\n",
      "18                                 pxwiz     Human  False      Bot    human\n",
      "19                            jnichols35     Human  False      Bot    human\n",
      "20                          ClementTsang     Human  False  Unknown    human\n",
      "21                              kbdharun     Human  False      Bot    human\n",
      "22                     dotnet-winget-bot       Bot  False      Bot      bot\n",
      "23                            Witchilich     Human  False  Unknown    human\n",
      "24   momento-github-actions-machine-user       Bot  False  Unknown      bot\n",
      "25                                ousugo     Human  False  Unknown      bot\n",
      "26                              anamnavi     Human  False      Bot    human\n",
      "27                                 tiksn     Human  False  Unknown    human\n",
      "28                              BiosPlus     Human  False      Bot      bot\n",
      "29                              chausner     Human  False  Unknown    human\n",
      "30                          SpecterShell     Human  False      Bot      bot\n",
      "31                          Masamune3210     Human  False    Human    human\n",
      "32                              matracey     Human  False      Bot    human\n",
      "33                             azure-sdk       Bot  False      Bot      bot\n",
      "34                           rsteube-bot       Bot  False      Bot      bot\n",
      "35                             nebula-it     Human  False      Bot    human\n",
      "36                            JamieMagee     Human  False  Unknown    human\n",
      "37                     blockstack-devops       Bot  False  Unknown      bot\n",
      "38                             ryfu-msft     Human  False      Bot    human\n",
      "39                              PckgrBot       Bot  False      Bot      bot\n"
     ]
    }
   ],
   "source": [
    "# merge it to df - Now your df should have the following five columns - contributor, bothunter, app, bodegha, rabbit\n",
    "\n",
    "# YOUR CODE BELOW\n",
    "df = pd.merge(df,rabbit_df[['contributor','rabbit']],on='contributor')\n",
    "print(df)\n",
    "\n"
   ]
  },
  {
   "cell_type": "code",
   "execution_count": 181,
   "id": "3d630b7d-494b-419d-9778-9c2eeb5faecc",
   "metadata": {},
   "outputs": [
    {
     "name": "stdout",
     "output_type": "stream",
     "text": [
      "                             contributor bothunter    app  bodegha   rabbit\n",
      "0                                matbech     Human  False      Bot      Bot\n",
      "1                         oxygen-dioxide     Human  False  Unknown    Human\n",
      "2                                  gertd     Human  False      Bot    Human\n",
      "3                           babblebauble     Human  False      Bot      Bot\n",
      "4                               mecgmecg     Human  False      Bot  Unknown\n",
      "5                        DattatreyaReddy     Human  False      Bot    Human\n",
      "6                              wingetbot       Bot  False      Bot      Bot\n",
      "7                              Cyberboss     Human  False      Bot    Human\n",
      "8                        Rust-Winget-Bot       Bot  False      Bot      Bot\n",
      "9   microsoft-github-policy-service[bot]       Bot   True      Bot      Bot\n",
      "10                  LeonGungadinMogensen       Bot  False      Bot      Bot\n",
      "11                         TheBossMagnus     Human  False  Unknown    Human\n",
      "12                               erikbra     Human  False  Unknown    Human\n",
      "13                               MabelYT     Human  False  Unknown    Human\n",
      "14                               Alphrag     Human  False      Bot    Human\n",
      "15                            Dragon1573     Human  False    Human    Human\n",
      "16                                 doms9       Bot  False      Bot    Human\n",
      "17                              prql-bot       Bot  False  Unknown      Bot\n",
      "18                                 pxwiz     Human  False      Bot    Human\n",
      "19                            jnichols35     Human  False      Bot    Human\n",
      "20                          ClementTsang     Human  False  Unknown    Human\n",
      "21                              kbdharun     Human  False      Bot    Human\n",
      "22                     dotnet-winget-bot       Bot  False      Bot      Bot\n",
      "23                            Witchilich     Human  False  Unknown    Human\n",
      "24   momento-github-actions-machine-user       Bot  False  Unknown      Bot\n",
      "25                                ousugo     Human  False  Unknown      Bot\n",
      "26                              anamnavi     Human  False      Bot    Human\n",
      "27                                 tiksn     Human  False  Unknown    Human\n",
      "28                              BiosPlus     Human  False      Bot      Bot\n",
      "29                              chausner     Human  False  Unknown    Human\n",
      "30                          SpecterShell     Human  False      Bot      Bot\n",
      "31                          Masamune3210     Human  False    Human    Human\n",
      "32                              matracey     Human  False      Bot    Human\n",
      "33                             azure-sdk       Bot  False      Bot      Bot\n",
      "34                           rsteube-bot       Bot  False      Bot      Bot\n",
      "35                             nebula-it     Human  False      Bot    Human\n",
      "36                            JamieMagee     Human  False  Unknown    Human\n",
      "37                     blockstack-devops       Bot  False  Unknown      Bot\n",
      "38                             ryfu-msft     Human  False      Bot    Human\n",
      "39                              PckgrBot       Bot  False      Bot      Bot\n"
     ]
    }
   ],
   "source": [
    "# Replace the prediction result given by rabbit from 'bot' to 'Bot', 'app' to 'Bot', 'human' to 'Human', 'unknown' to 'Unknown' to maintain consistency\n",
    "\n",
    "# YOUR CODE BELOW\n",
    "df['rabbit'] = df['rabbit'].replace({'bot':'Bot','app':'Bot','human':'Human','unknown':'Unknown'})\n",
    "print(df)\n"
   ]
  },
  {
   "cell_type": "code",
   "execution_count": 182,
   "id": "fd0396b7",
   "metadata": {},
   "outputs": [],
   "source": [
    "#df.to_csv('manual.csv')"
   ]
  },
  {
   "cell_type": "markdown",
   "id": "a6f38f75-30ec-463f-bc98-89de44a14db4",
   "metadata": {},
   "source": [
    "### Question 2\n",
    "\n",
    "#### Add an extra column to the CSV ﬁle called 'manual' that has the label determined by you. For each account, of your own opinion on its nature (bot, human or unknown only in case of doubt) on the basis of a manual veriﬁcation of the contributor’s activities in the repository through the GitHub UI and through the GitHub Events API https://api.github.com/users/username/events, and taking into account the prediction made by the bot identification tools."
   ]
  },
  {
   "cell_type": "markdown",
   "id": "e0da30a5-19c6-4ebe-b4cf-9641a432a3ec",
   "metadata": {},
   "source": [
    "#### More information:\n",
    "For each contributor, look at their activities in GitHub UI, look at their latest events using GitHub Events API - https://api.github.com/users/<contributor\\>/events, to make a decision on their type. \n",
    "\n",
    "In addition, you should also write a very small reason why do you think they are bot or human (e.g., same activity at regular interval so Bot, files committed and code modified looks like Human, comments look like Human, comment look like Bot, test report looks automated so Bot, and so on....). This might be useful to answer the next question as well."
   ]
  },
  {
   "cell_type": "code",
   "execution_count": 205,
   "id": "884a7612-7ff7-40a4-805f-113c6f70786b",
   "metadata": {},
   "outputs": [
    {
     "name": "stdout",
     "output_type": "stream",
     "text": [
      "    Unnamed: 0                           contributor bothunter    app  \\\n",
      "0            0                               matbech     Human  False   \n",
      "1            1                        oxygen-dioxide     Human  False   \n",
      "2            2                                 gertd     Human  False   \n",
      "3            3                          babblebauble     Human  False   \n",
      "4            4                              mecgmecg     Human  False   \n",
      "5            5                       DattatreyaReddy     Human  False   \n",
      "6            6                             wingetbot       Bot  False   \n",
      "7            7                             Cyberboss     Human  False   \n",
      "8            8                       Rust-Winget-Bot       Bot  False   \n",
      "9            9  microsoft-github-policy-service[bot]       Bot   True   \n",
      "10          10                  LeonGungadinMogensen       Bot  False   \n",
      "11          11                         TheBossMagnus     Human  False   \n",
      "12          12                               erikbra     Human  False   \n",
      "13          13                               MabelYT     Human  False   \n",
      "14          14                               Alphrag     Human  False   \n",
      "15          15                            Dragon1573     Human  False   \n",
      "16          16                                 doms9       Bot  False   \n",
      "17          17                              prql-bot       Bot  False   \n",
      "18          18                                 pxwiz     Human  False   \n",
      "19          19                            jnichols35     Human  False   \n",
      "20          20                          ClementTsang     Human  False   \n",
      "21          21                              kbdharun     Human  False   \n",
      "22          22                     dotnet-winget-bot       Bot  False   \n",
      "23          23                            Witchilich     Human  False   \n",
      "24          24   momento-github-actions-machine-user       Bot  False   \n",
      "25          25                                ousugo     Human  False   \n",
      "26          26                              anamnavi     Human  False   \n",
      "27          27                                 tiksn     Human  False   \n",
      "28          28                              BiosPlus     Human  False   \n",
      "29          29                              chausner     Human  False   \n",
      "30          30                          SpecterShell     Human  False   \n",
      "31          31                          Masamune3210     Human  False   \n",
      "32          32                              matracey     Human  False   \n",
      "33          33                             azure-sdk       Bot  False   \n",
      "34          34                           rsteube-bot       Bot  False   \n",
      "35          35                             nebula-it     Human  False   \n",
      "36          36                            JamieMagee     Human  False   \n",
      "37          37                     blockstack-devops       Bot  False   \n",
      "38          38                             ryfu-msft     Human  False   \n",
      "39          39                              PckgrBot       Bot  False   \n",
      "\n",
      "    bodegha   rabbit   type  \n",
      "0       Bot      Bot    Bot  \n",
      "1   Unknown    Human  Human  \n",
      "2       Bot    Human  Human  \n",
      "3       Bot      Bot    Bot  \n",
      "4       Bot  Unknown    Bot  \n",
      "5       Bot    Human  Human  \n",
      "6       Bot      Bot    Bot  \n",
      "7       Bot    Human  Human  \n",
      "8       Bot      Bot    Bot  \n",
      "9       Bot      Bot    Bot  \n",
      "10      Bot      Bot    Bot  \n",
      "11  Unknown    Human  Human  \n",
      "12  Unknown    Human  Human  \n",
      "13  Unknown    Human  Human  \n",
      "14      Bot    Human  Human  \n",
      "15    Human    Human  Human  \n",
      "16      Bot    Human    Bot  \n",
      "17  Unknown      Bot    Bot  \n",
      "18      Bot    Human  Human  \n",
      "19      Bot    Human  Human  \n",
      "20  Unknown    Human  Human  \n",
      "21      Bot    Human  Human  \n",
      "22      Bot      Bot    Bot  \n",
      "23  Unknown    Human  Human  \n",
      "24  Unknown      Bot    Bot  \n",
      "25  Unknown      Bot    Bot  \n",
      "26      Bot    Human  Human  \n",
      "27  Unknown    Human  Human  \n",
      "28      Bot      Bot    Bot  \n",
      "29  Unknown    Human  Human  \n",
      "30      Bot      Bot    Bot  \n",
      "31    Human    Human  Human  \n",
      "32      Bot    Human  Human  \n",
      "33      Bot      Bot    Bot  \n",
      "34      Bot      Bot    Bot  \n",
      "35      Bot    Human  Human  \n",
      "36  Unknown    Human  Human  \n",
      "37  Unknown      Bot    Bot  \n",
      "38      Bot    Human  Human  \n",
      "39      Bot      Bot    Bot  \n"
     ]
    }
   ],
   "source": [
    "# Write your manual decision here\n",
    "# example : \n",
    "# manual_list_dict = [{'contributor': 'tommens', 'manual': 'human'}, {....}, {....}, {....}]\n",
    "# pd.DataFrame.from_dict(manual_list_dict)\n",
    "\n",
    "# YOUR CODE BELOW\n",
    "manual_csv =  pd.read_csv('microsoft_winget-pkgs_1/manual.csv')\n",
    "print(manual_csv)\n",
    "\n"
   ]
  },
  {
   "cell_type": "code",
   "execution_count": 184,
   "id": "93c4ce14-c393-45ba-aba0-bf1ae23d1cca",
   "metadata": {},
   "outputs": [
    {
     "name": "stdout",
     "output_type": "stream",
     "text": [
      "    Unnamed: 0                           contributor bothunter    app  \\\n",
      "0            0                               matbech     Human  False   \n",
      "1            1                        oxygen-dioxide     Human  False   \n",
      "2            2                                 gertd     Human  False   \n",
      "3            3                          babblebauble     Human  False   \n",
      "4            4                              mecgmecg     Human  False   \n",
      "5            5                       DattatreyaReddy     Human  False   \n",
      "6            6                             wingetbot       Bot  False   \n",
      "7            7                             Cyberboss     Human  False   \n",
      "8            8                       Rust-Winget-Bot       Bot  False   \n",
      "9            9  microsoft-github-policy-service[bot]       Bot   True   \n",
      "10          10                  LeonGungadinMogensen       Bot  False   \n",
      "11          11                         TheBossMagnus     Human  False   \n",
      "12          12                               erikbra     Human  False   \n",
      "13          13                               MabelYT     Human  False   \n",
      "14          14                               Alphrag     Human  False   \n",
      "15          15                            Dragon1573     Human  False   \n",
      "16          16                                 doms9       Bot  False   \n",
      "17          17                              prql-bot       Bot  False   \n",
      "18          18                                 pxwiz     Human  False   \n",
      "19          19                            jnichols35     Human  False   \n",
      "20          20                          ClementTsang     Human  False   \n",
      "21          21                              kbdharun     Human  False   \n",
      "22          22                     dotnet-winget-bot       Bot  False   \n",
      "23          23                            Witchilich     Human  False   \n",
      "24          24   momento-github-actions-machine-user       Bot  False   \n",
      "25          25                                ousugo     Human  False   \n",
      "26          26                              anamnavi     Human  False   \n",
      "27          27                                 tiksn     Human  False   \n",
      "28          28                              BiosPlus     Human  False   \n",
      "29          29                              chausner     Human  False   \n",
      "30          30                          SpecterShell     Human  False   \n",
      "31          31                          Masamune3210     Human  False   \n",
      "32          32                              matracey     Human  False   \n",
      "33          33                             azure-sdk       Bot  False   \n",
      "34          34                           rsteube-bot       Bot  False   \n",
      "35          35                             nebula-it     Human  False   \n",
      "36          36                            JamieMagee     Human  False   \n",
      "37          37                     blockstack-devops       Bot  False   \n",
      "38          38                             ryfu-msft     Human  False   \n",
      "39          39                              PckgrBot       Bot  False   \n",
      "\n",
      "    bodegha   rabbit   type  \n",
      "0       Bot      Bot    Bot  \n",
      "1   Unknown    Human  Human  \n",
      "2       Bot    Human  Human  \n",
      "3       Bot      Bot    Bot  \n",
      "4       Bot  Unknown    Bot  \n",
      "5       Bot    Human  Human  \n",
      "6       Bot      Bot    Bot  \n",
      "7       Bot    Human  Human  \n",
      "8       Bot      Bot    Bot  \n",
      "9       Bot      Bot    Bot  \n",
      "10      Bot      Bot    Bot  \n",
      "11  Unknown    Human  Human  \n",
      "12  Unknown    Human  Human  \n",
      "13  Unknown    Human  Human  \n",
      "14      Bot    Human  Human  \n",
      "15    Human    Human  Human  \n",
      "16      Bot    Human    Bot  \n",
      "17  Unknown      Bot    Bot  \n",
      "18      Bot    Human  Human  \n",
      "19      Bot    Human  Human  \n",
      "20  Unknown    Human  Human  \n",
      "21      Bot    Human  Human  \n",
      "22      Bot      Bot    Bot  \n",
      "23  Unknown    Human  Human  \n",
      "24  Unknown      Bot    Bot  \n",
      "25  Unknown      Bot    Bot  \n",
      "26      Bot    Human  Human  \n",
      "27  Unknown    Human  Human  \n",
      "28      Bot      Bot    Bot  \n",
      "29  Unknown    Human  Human  \n",
      "30      Bot      Bot    Bot  \n",
      "31    Human    Human  Human  \n",
      "32      Bot    Human  Human  \n",
      "33      Bot      Bot    Bot  \n",
      "34      Bot      Bot    Bot  \n",
      "35      Bot    Human  Human  \n",
      "36  Unknown    Human  Human  \n",
      "37  Unknown      Bot    Bot  \n",
      "38      Bot    Human  Human  \n",
      "39      Bot      Bot    Bot  \n"
     ]
    }
   ],
   "source": [
    "# merge it with df of predictions. Now your df should have the following six columns\n",
    "# contributor, bothunter, app, bodegha, rabbit, manual\n",
    "\n",
    "# YOUR CODE BELOW\n",
    "print(manual_csv)\n"
   ]
  },
  {
   "cell_type": "markdown",
   "id": "0ec42ed1-0758-4ce4-82cc-542e490626dc",
   "metadata": {},
   "source": [
    "### Question 3\n",
    "\n",
    "#### Study and report the purpose of these identified bots and humans in the repository assigned to you. \n",
    "\n",
    "For example, the purpose can be based on but not limited to - \n",
    "\n",
    "the type of activities that they are performing (releasing a version on every Sunday, updating the documentation), type of comments they are posting (reviewing code, test summary report), when are they triggered (when a new PR is created, when someone in the project ask the bot to merge the code) and so on. \\textbf{Note:} The purpose can be other than what is provided in examples above. \n"
   ]
  },
  {
   "cell_type": "code",
   "execution_count": null,
   "id": "64569eb1-7faa-46e4-bb81-02bb1058b2a7",
   "metadata": {},
   "outputs": [],
   "source": []
  },
  {
   "cell_type": "markdown",
   "id": "0b41eb2e-b481-4502-94b3-f0d28eb8f76a",
   "metadata": {},
   "source": [
    "### Question 4"
   ]
  },
  {
   "cell_type": "markdown",
   "id": "3ad85279-0ee8-49de-8c5a-bf0850494772",
   "metadata": {},
   "source": [
    "#### Create a column named 'type' to the CSV ﬁle and write your ﬁnal decision on the type of contributor. The ﬁnal decision on their type is the prediciton that majority of the raters predicted (you can ignore the 'Unknown'), in the case of contradiction, you can finalise it as Human.\n",
    "#### Case 1: If two raters has mentioned a contributor as Bot and others mentioned it as 'Unknown', then the type of the account is Bot.  \n",
    "#### Case 2: If 3 raters give 'Unknown' to a contributor then the prediction given by the fourth rater is final.\n",
    "#### Case 3: If 2 raters give the prediciton as 'Bot' and 2 raters give it as 'Human', then the final decision is 'Human'\n",
    "#### In this step, GitHub Apps should be marked as App and not as a Bot."
   ]
  },
  {
   "cell_type": "code",
   "execution_count": 185,
   "id": "1040a69f-25cb-467a-9afd-6f32f6ae2a6e",
   "metadata": {},
   "outputs": [],
   "source": [
    "# Make a final decision on the type based on the predictions given by bothunter, bodegha, bothunter and your manual labelling. \n",
    "# Now your df should contain seven columns - contributor, bothunter, app, bodegha, rabbit, manual and type\n",
    "\n",
    "# YOUR CODE BELOW"
   ]
  },
  {
   "cell_type": "markdown",
   "id": "40f47f01-f3be-4309-b37c-e23b4887db93",
   "metadata": {},
   "source": [
    "### Question 5 (a)\n",
    "\n",
    "#### Compute and report the Fleiss Kappa interrater agreement score between the labels computed by all bot identiﬁcation tools."
   ]
  },
  {
   "cell_type": "markdown",
   "id": "4c828483-7d39-40b0-be45-e61264daa1bd",
   "metadata": {},
   "source": [
    "##### For example:\n",
    "\n",
    "converted_df = aggregate_raters(np.array(df[['rater1','rater2']]))  \n",
    "kappa = fleiss_kappa(converted_df[0])  \n",
    "print('kappa')  "
   ]
  },
  {
   "cell_type": "markdown",
   "id": "e94e819d-1e1b-4e00-935c-617f7b4585f5",
   "metadata": {},
   "source": [
    "#### a. between bothunter and rabbit"
   ]
  },
  {
   "cell_type": "code",
   "execution_count": 186,
   "id": "a72de000-7e18-4e38-a8d0-f0779c2df4dd",
   "metadata": {},
   "outputs": [
    {
     "name": "stdout",
     "output_type": "stream",
     "text": [
      "0.6284007962840079\n"
     ]
    }
   ],
   "source": [
    "converted_df_bh_ra = aggregate_raters(np.array(df[['bothunter','rabbit']]))\n",
    "kappa_bh_ra = fleiss_kappa(converted_df_bh_ra[0])\n",
    "print(kappa_bh_ra)"
   ]
  },
  {
   "cell_type": "markdown",
   "id": "43b8246f-3071-4642-a0d5-737c5e462f9f",
   "metadata": {},
   "source": [
    "#### b. between bothunter and bodegha"
   ]
  },
  {
   "cell_type": "code",
   "execution_count": 187,
   "id": "cbecc6ac-b80a-4e2d-a944-ceaf61cb6874",
   "metadata": {},
   "outputs": [
    {
     "name": "stdout",
     "output_type": "stream",
     "text": [
      "-0.171125694093892\n"
     ]
    }
   ],
   "source": [
    "converted_df_bh_bd = aggregate_raters(np.array(df[['bothunter','bodegha']]))\n",
    "kappa_bh_bd = fleiss_kappa(converted_df_bh_bd[0])\n",
    "print(kappa_bh_bd)"
   ]
  },
  {
   "cell_type": "markdown",
   "id": "bc8ae1a7-f3de-4218-9f10-412e35580490",
   "metadata": {},
   "source": [
    "#### c. between bodegha and rabbit"
   ]
  },
  {
   "cell_type": "code",
   "execution_count": 188,
   "id": "4504ad9e-96dc-4931-94f2-34bac64501ca",
   "metadata": {},
   "outputs": [
    {
     "name": "stdout",
     "output_type": "stream",
     "text": [
      "-0.06721395587480761\n"
     ]
    }
   ],
   "source": [
    "converted_df_bd_ra = aggregate_raters(np.array(df[['bodegha','rabbit']]))\n",
    "kappa_bd_ra = fleiss_kappa(converted_df_bd_ra[0])\n",
    "print(kappa_bd_ra)"
   ]
  },
  {
   "cell_type": "markdown",
   "id": "5563de23-ee19-4845-ab53-f0ee825c3749",
   "metadata": {},
   "source": [
    "#### d. between bothunter, bodegha and rabbit"
   ]
  },
  {
   "cell_type": "code",
   "execution_count": 189,
   "id": "b09313d6-4b5d-4392-a7a5-d23fdf8763a3",
   "metadata": {},
   "outputs": [
    {
     "name": "stdout",
     "output_type": "stream",
     "text": [
      "0.1334730957372466\n"
     ]
    }
   ],
   "source": [
    "converted_df_bh_bd_ra = aggregate_raters(np.array(df[['bothunter','bodegha','rabbit']]))\n",
    "kappa_bh_bd_ra = fleiss_kappa(converted_df_bh_bd_ra[0])\n",
    "print(kappa_bh_bd_ra)"
   ]
  },
  {
   "cell_type": "markdown",
   "id": "15475bd2-905a-4676-b68b-0ad24e7465ff",
   "metadata": {},
   "source": [
    "### Question 5 (b)\n",
    "#### Report on\n",
    "#### a. What is you interpretation from the kappa values (use the table provided in the description document)? what do you understand?"
   ]
  },
  {
   "cell_type": "code",
   "execution_count": 190,
   "id": "af8dd098-a2e3-4e87-a5cc-7347f00280e1",
   "metadata": {},
   "outputs": [
    {
     "ename": "SyntaxError",
     "evalue": "invalid syntax (277540289.py, line 1)",
     "output_type": "error",
     "traceback": [
      "\u001b[1;36m  Cell \u001b[1;32mIn[190], line 1\u001b[1;36m\u001b[0m\n\u001b[1;33m    Only bothunter and rabbit have a substancial agreement. The rest has slight agreement.\u001b[0m\n\u001b[1;37m         ^\u001b[0m\n\u001b[1;31mSyntaxError\u001b[0m\u001b[1;31m:\u001b[0m invalid syntax\n"
     ]
    }
   ],
   "source": [
    "Only bothunter and rabbit have a substancial agreement. The rest has slight agreement."
   ]
  },
  {
   "cell_type": "markdown",
   "id": "7e9462bc-95d6-4fd8-8231-f6e13f19c2eb",
   "metadata": {},
   "source": [
    "#### b. Based on your previous analysis, which bot identification tool would you use, if you want to predict if a contributor is a human or bot? Motivate your answer"
   ]
  },
  {
   "cell_type": "code",
   "execution_count": null,
   "id": "23f9e9ad-4392-43bb-afb3-b33bfa472c50",
   "metadata": {},
   "outputs": [],
   "source": [
    "I would use rabbit because it seems the best predictions based on other."
   ]
  },
  {
   "cell_type": "markdown",
   "id": "88945f23-8222-4925-b6fc-b049b0761a7a",
   "metadata": {},
   "source": [
    "## Section 5"
   ]
  },
  {
   "cell_type": "markdown",
   "id": "0158557e-2389-45c2-b725-8782923d0f87",
   "metadata": {},
   "source": [
    "#### Query the GitHub Events API to get maximum possible events for each contributor (maximum is 300 events).  \n",
    "#### You can use the following query: '{QUERY_ROOT}/users/{contributor}/events?per_page=100&page={page}' where page = 1 or 2 or 3  \n",
    "#### As you did in earlier task, make a request to GitHub Events API with the required headers, convert the response to JSON, extract the following fields and store in a DataFrame:\n",
    "Event id - json_response['event_id']  \n",
    "Name of the contributor - json_response['actor']['login']  \n",
    "Name of the repository - json_response['repository']['name']  \n",
    "Type of event - json_response['type']  \n",
    "Time of event - json_response['created_at']\n",
    "\n",
    "#### Hint: Query the GitHubEvents API for all contributors. Append the obtained JSON result to a list of JSONs. Process one dictionary after other to get your required fields and store them in another list of dictionaries. Finally convert this dictionaty to DataFrame. OR You can directly convert the list of JSONs to DataFrame using pd.json_normalize() and select the required columns alone.\n",
    "\n",
    "#### The resultant dataframe should have all the recent events performed by all the contributors and the following columns should be present in them - event_id, contributor, repo_name, event_type, created_at.\n"
   ]
  },
  {
   "cell_type": "code",
   "execution_count": 195,
   "id": "27c42b17",
   "metadata": {},
   "outputs": [
    {
     "name": "stdout",
     "output_type": "stream",
     "text": [
      "         event_id contributor                repo_name        event_type  \\\n",
      "0     36699803590     matbech  wangyewei/nprogress-esm       IssuesEvent   \n",
      "1     36561399018     matbech      matbech/winget-pkgs       DeleteEvent   \n",
      "2     36530742713     matbech    microsoft/winget-pkgs  PullRequestEvent   \n",
      "3     36530742182     matbech      matbech/winget-pkgs         PushEvent   \n",
      "4     36530741510     matbech      matbech/winget-pkgs         PushEvent   \n",
      "...           ...         ...                      ...               ...   \n",
      "7675  36317472782    PckgrBot    microsoft/winget-pkgs  PullRequestEvent   \n",
      "7676  36317472366    PckgrBot     PckgrBot/winget-pkgs         PushEvent   \n",
      "7677  36317471430    PckgrBot     PckgrBot/winget-pkgs       CreateEvent   \n",
      "7678  36317466349    PckgrBot    microsoft/winget-pkgs  PullRequestEvent   \n",
      "7679  36317465828    PckgrBot     PckgrBot/winget-pkgs         PushEvent   \n",
      "\n",
      "                created_at  \n",
      "0     2024-03-19T20:44:56Z  \n",
      "1     2024-03-14T18:04:33Z  \n",
      "2     2024-03-14T00:01:21Z  \n",
      "3     2024-03-14T00:01:19Z  \n",
      "4     2024-03-14T00:01:18Z  \n",
      "...                    ...  \n",
      "7675  2024-03-06T23:56:53Z  \n",
      "7676  2024-03-06T23:56:52Z  \n",
      "7677  2024-03-06T23:56:48Z  \n",
      "7678  2024-03-06T23:56:29Z  \n",
      "7679  2024-03-06T23:56:27Z  \n",
      "\n",
      "[7680 rows x 5 columns]\n"
     ]
    }
   ],
   "source": [
    "# YOUR CODE BELOW\n",
    "# List to store the JSON responses for each contributor\n",
    "json_responses = []\n",
    "\n",
    "# Iterate over each contributor\n",
    "for contributor in contributors:\n",
    "    page = 1\n",
    "    while True:\n",
    "        # Make a request to the GitHub Events API\n",
    "        query=f'{QUERY_ROOT}/users/{contributor}/events?per_page=100&page={page}'\n",
    "\n",
    "        response = requests.get(query, headers=HEADERS)\n",
    "        json_response = response.json()\n",
    "        \n",
    "        # Append the JSON response to the list\n",
    "        json_responses.append(json_response)\n",
    "        \n",
    "        # Break the loop if there are no more events or we have reached the maximum limit of 300 events\n",
    "        if not json_response or page == 3:\n",
    "            break\n",
    "        \n",
    "        # Increment the page number\n",
    "        page += 1\n",
    "\n",
    "# List to store the required fields for each event\n",
    "events_list = []\n",
    "\n",
    "# Process each JSON response\n",
    "for json_response in json_responses:\n",
    "    for event in json_response:\n",
    "        event_id = event['id']\n",
    "        contributor = event['actor']['login']\n",
    "        repo_name = event['repo']['name']\n",
    "        event_type = event['type']\n",
    "        created_at = event['created_at']\n",
    "        \n",
    "        # Append the fields to the list of events\n",
    "        events_list.append({'event_id': event_id, 'contributor': contributor, 'repo_name': repo_name, 'event_type': event_type, 'created_at': created_at})\n",
    "\n",
    "# Create a DataFrame from the list of events\n",
    "events_df = pd.DataFrame(events_list)\n",
    "\n",
    "# Display the DataFrame\n",
    "print(events_df)\n"
   ]
  },
  {
   "cell_type": "markdown",
   "id": "6d107b13-0c4f-4a56-a284-596f73a53d2f",
   "metadata": {},
   "source": [
    "### Question 1\n",
    "#### Group each event into the following four categories\n",
    "\n",
    "Issues: IssueCommentEvent, IssuesEvent  \n",
    "Pull Requests: PullRequestEvent, PullRequestReviewCommentEvent  \n",
    "Commits: CommitCommentEvent, PushEvent  \n",
    "Repository: CreateEvent, DeleteEvent, ForkEvent, GollumEvent, MemberEvent, PublicEvent, ReleaseEvent, SponsorshipEvent, WatchEvent  \n",
    "\n",
    "#### Hint:\n",
    "1. Add a column called event_group that mentions which event group does that event belong to. Each event (row) should correspond to an event group.  \n",
    "2. Then perform groupby on ['contributor','event_group'],  \n",
    "3. use .agg (https://pandas.pydata.org/pandas-docs/stable/reference/api/pandas.DataFrame.agg.html) to count the number of events performed by each contributor in each group,  \n",
    "4. use pivot with the required arguments (https://pandas.pydata.org/pandas-docs/stable/reference/api/pandas.DataFrame.pivot.html). An example is given [here](#pivot_example) in question 2(b), and  \n",
    "5. finally merge it with your 'type' field from the DataFrame you got in Section4\n",
    "\n",
    "The final DataFrame should be looking like the following  \n",
    "![](event_group.png)"
   ]
  },
  {
   "cell_type": "code",
   "execution_count": 197,
   "id": "06072cfd-9de7-4e25-a3fa-11296a728484",
   "metadata": {},
   "outputs": [],
   "source": [
    "# In the resultant DataFrame - each row should corespond to a contributor, and the columns should have all the event groups  \n",
    "# and the type of the contributor (that you decided in the previous DataFrame) and the values should be the number \n",
    "# of events of that event event group the contriubutor has performed.\n",
    "\n",
    "issue_group = ['IssueCommentEvent', 'IssuesEvent']\n",
    "pr_group = ['PullRequestEvent', 'PullRequestReviewCommentEvent']\n",
    "commit_group = ['CommitCommentEvent', 'PushEvent']\n",
    "repo_group = ['CreateEvent', 'DeleteEvent', 'ForkEvent', 'GollumEvent', 'MemberEvent', 'PublicEvent', 'ReleaseEvent', 'SponsorshipEvent', 'WatchEvent']"
   ]
  },
  {
   "cell_type": "code",
   "execution_count": 200,
   "id": "6ed05499",
   "metadata": {},
   "outputs": [],
   "source": [
    "# YOUR CODE BELOW\n",
    "#Add a columns to envents_df called 'event_group' and assign the event group based on the event_type\n",
    "events_df['event_group'] = np.where(events_df['event_type'].isin(issue_group), 'issue', \n",
    "                                    np.where(events_df['event_type'].isin(pr_group), 'pr', \n",
    "                                             np.where(events_df['event_type'].isin(commit_group), 'commit', \n",
    "                                                      np.where(events_df['event_type'].isin(repo_group), 'repo', 'other'))))\n",
    "\n",
    "#Groupby on contributor and event_group\n",
    "events_df_groupby = events_df.groupby(['contributor', 'event_group']).size().unstack(fill_value=0)\n"
   ]
  },
  {
   "cell_type": "code",
   "execution_count": 201,
   "id": "3ef3f9ee",
   "metadata": {},
   "outputs": [
    {
     "name": "stdout",
     "output_type": "stream",
     "text": [
      "event_group                           commit  issue  other  pr  repo\n",
      "contributor                                                         \n",
      "Alphrag                                   55      5      0  24    55\n",
      "BiosPlus                                  77      7      0  71   144\n",
      "ClementTsang                             135     22      5  67    71\n",
      "Cyberboss                                100     26     12  37    80\n",
      "DattatreyaReddy                           20     18      1  22    33\n",
      "Dragon1573                                67     98      7  37    81\n",
      "JamieMagee                               119     35     40  43    39\n",
      "LeonGungadinMogensen                      88      0      0  12    34\n",
      "MabelYT                                   65      3      0   3    47\n",
      "Masamune3210                               4     55      2   4     3\n",
      "PckgrBot                                  97     17      1  99    86\n",
      "Rust-Winget-Bot                           91      0      0   6    10\n",
      "SpecterShell                              97      0      0  70   133\n",
      "TheBossMagnus                            166     15      2   9   106\n",
      "Witchilich                                40      2      0   0     0\n",
      "anamnavi                                 140     19     53  66    16\n",
      "azure-sdk                                181      2      0  47    55\n",
      "babblebauble                              51     10      0  16    30\n",
      "blockstack-devops                         39     92      0   5    78\n",
      "chausner                                  15      7      3  13    15\n",
      "doms9                                    113      0      0  16    39\n",
      "dotnet-winget-bot                         84      0      0  73    74\n",
      "erikbra                                  195     23      0  46    30\n",
      "gertd                                     87      8     43  78    84\n",
      "jnichols35                                30      4      0  21    55\n",
      "kbdharun                                  83      9     67  39    96\n",
      "matbech                                   37      7      0  23    44\n",
      "matracey                                  46      6      4   9    21\n",
      "mecgmecg                                   0      0      0   1     0\n",
      "microsoft-github-policy-service[bot]       2     82      4   3     0\n",
      "momento-github-actions-machine-user      145     14      0  38    69\n",
      "nebula-it                                 61      6     20  35    16\n",
      "ousugo                                   207      0      0   0    12\n",
      "oxygen-dioxide                           118     37      0  38   104\n",
      "prql-bot                                  79      1      0  86    90\n",
      "pxwiz                                     18      3      0  12    19\n",
      "rsteube-bot                               12      0      0  11    23\n",
      "ryfu-msft                                 94     19     19  60   107\n",
      "tiksn                                     80      0     44  94    58\n",
      "wingetbot                                  1    169      0   1     1\n"
     ]
    }
   ],
   "source": [
    "print(events_df_groupby)"
   ]
  },
  {
   "cell_type": "code",
   "execution_count": 203,
   "id": "dfb94282",
   "metadata": {},
   "outputs": [
    {
     "name": "stdout",
     "output_type": "stream",
     "text": [
      "event_group                           commit  issue  other  pr  repo\n",
      "contributor                                                         \n",
      "Alphrag                                   55      5      0  24    55\n",
      "BiosPlus                                  77      7      0  71   144\n",
      "ClementTsang                             135     22      5  67    71\n",
      "Cyberboss                                100     26     12  37    80\n",
      "DattatreyaReddy                           20     18      1  22    33\n",
      "Dragon1573                                67     98      7  37    81\n",
      "JamieMagee                               119     35     40  43    39\n",
      "LeonGungadinMogensen                      88      0      0  12    34\n",
      "MabelYT                                   65      3      0   3    47\n",
      "Masamune3210                               4     55      2   4     3\n",
      "PckgrBot                                  97     17      1  99    86\n",
      "Rust-Winget-Bot                           91      0      0   6    10\n",
      "SpecterShell                              97      0      0  70   133\n",
      "TheBossMagnus                            166     15      2   9   106\n",
      "Witchilich                                40      2      0   0     0\n",
      "anamnavi                                 140     19     53  66    16\n",
      "azure-sdk                                181      2      0  47    55\n",
      "babblebauble                              51     10      0  16    30\n",
      "blockstack-devops                         39     92      0   5    78\n",
      "chausner                                  15      7      3  13    15\n",
      "doms9                                    113      0      0  16    39\n",
      "dotnet-winget-bot                         84      0      0  73    74\n",
      "erikbra                                  195     23      0  46    30\n",
      "gertd                                     87      8     43  78    84\n",
      "jnichols35                                30      4      0  21    55\n",
      "kbdharun                                  83      9     67  39    96\n",
      "matbech                                   37      7      0  23    44\n",
      "matracey                                  46      6      4   9    21\n",
      "mecgmecg                                   0      0      0   1     0\n",
      "microsoft-github-policy-service[bot]       2     82      4   3     0\n",
      "momento-github-actions-machine-user      145     14      0  38    69\n",
      "nebula-it                                 61      6     20  35    16\n",
      "ousugo                                   207      0      0   0    12\n",
      "oxygen-dioxide                           118     37      0  38   104\n",
      "prql-bot                                  79      1      0  86    90\n",
      "pxwiz                                     18      3      0  12    19\n",
      "rsteube-bot                               12      0      0  11    23\n",
      "ryfu-msft                                 94     19     19  60   107\n",
      "tiksn                                     80      0     44  94    58\n",
      "wingetbot                                  1    169      0   1     1\n"
     ]
    }
   ],
   "source": [
    "#Use pivot\n",
    "events_df_pivot = events_df.pivot_table(index='contributor', columns='event_group', values='event_id', aggfunc='count', fill_value=0)\n",
    "print(events_df_pivot)"
   ]
  },
  {
   "cell_type": "code",
   "execution_count": 207,
   "id": "c71f7d34",
   "metadata": {},
   "outputs": [
    {
     "name": "stdout",
     "output_type": "stream",
     "text": [
      "                             contributor   type  commit  issue  other  pr  \\\n",
      "0                                matbech    Bot      37      7      0  23   \n",
      "1                         oxygen-dioxide  Human     118     37      0  38   \n",
      "2                                  gertd  Human      87      8     43  78   \n",
      "3                           babblebauble    Bot      51     10      0  16   \n",
      "4                               mecgmecg    Bot       0      0      0   1   \n",
      "5                        DattatreyaReddy  Human      20     18      1  22   \n",
      "6                              wingetbot    Bot       1    169      0   1   \n",
      "7                              Cyberboss  Human     100     26     12  37   \n",
      "8                        Rust-Winget-Bot    Bot      91      0      0   6   \n",
      "9   microsoft-github-policy-service[bot]    Bot       2     82      4   3   \n",
      "10                  LeonGungadinMogensen    Bot      88      0      0  12   \n",
      "11                         TheBossMagnus  Human     166     15      2   9   \n",
      "12                               erikbra  Human     195     23      0  46   \n",
      "13                               MabelYT  Human      65      3      0   3   \n",
      "14                               Alphrag  Human      55      5      0  24   \n",
      "15                            Dragon1573  Human      67     98      7  37   \n",
      "16                                 doms9    Bot     113      0      0  16   \n",
      "17                              prql-bot    Bot      79      1      0  86   \n",
      "18                                 pxwiz  Human      18      3      0  12   \n",
      "19                            jnichols35  Human      30      4      0  21   \n",
      "20                          ClementTsang  Human     135     22      5  67   \n",
      "21                              kbdharun  Human      83      9     67  39   \n",
      "22                     dotnet-winget-bot    Bot      84      0      0  73   \n",
      "23                            Witchilich  Human      40      2      0   0   \n",
      "24   momento-github-actions-machine-user    Bot     145     14      0  38   \n",
      "25                                ousugo    Bot     207      0      0   0   \n",
      "26                              anamnavi  Human     140     19     53  66   \n",
      "27                                 tiksn  Human      80      0     44  94   \n",
      "28                              BiosPlus    Bot      77      7      0  71   \n",
      "29                              chausner  Human      15      7      3  13   \n",
      "30                          SpecterShell    Bot      97      0      0  70   \n",
      "31                          Masamune3210  Human       4     55      2   4   \n",
      "32                              matracey  Human      46      6      4   9   \n",
      "33                             azure-sdk    Bot     181      2      0  47   \n",
      "34                           rsteube-bot    Bot      12      0      0  11   \n",
      "35                             nebula-it  Human      61      6     20  35   \n",
      "36                            JamieMagee  Human     119     35     40  43   \n",
      "37                     blockstack-devops    Bot      39     92      0   5   \n",
      "38                             ryfu-msft  Human      94     19     19  60   \n",
      "39                              PckgrBot    Bot      97     17      1  99   \n",
      "\n",
      "    repo  \n",
      "0     44  \n",
      "1    104  \n",
      "2     84  \n",
      "3     30  \n",
      "4      0  \n",
      "5     33  \n",
      "6      1  \n",
      "7     80  \n",
      "8     10  \n",
      "9      0  \n",
      "10    34  \n",
      "11   106  \n",
      "12    30  \n",
      "13    47  \n",
      "14    55  \n",
      "15    81  \n",
      "16    39  \n",
      "17    90  \n",
      "18    19  \n",
      "19    55  \n",
      "20    71  \n",
      "21    96  \n",
      "22    74  \n",
      "23     0  \n",
      "24    69  \n",
      "25    12  \n",
      "26    16  \n",
      "27    58  \n",
      "28   144  \n",
      "29    15  \n",
      "30   133  \n",
      "31     3  \n",
      "32    21  \n",
      "33    55  \n",
      "34    23  \n",
      "35    16  \n",
      "36    39  \n",
      "37    78  \n",
      "38   107  \n",
      "39    86  \n"
     ]
    }
   ],
   "source": [
    "#Merge pivot and df manual\n",
    "final_df = pd.merge(manual_csv[['contributor','type']], events_df_pivot, on='contributor')\n",
    "print(final_df)"
   ]
  },
  {
   "cell_type": "code",
   "execution_count": null,
   "id": "d9bc54f7",
   "metadata": {},
   "outputs": [],
   "source": [
    "#### Query the GitHub Events API to get maximum possible events for each contributor (maximum is 300 events).  \n",
    "#### You can use the following query: '{QUERY_ROOT}/users/{contributor}/events?per_page=100&page={page}' where page = 1 or 2 or 3  \n",
    "#### As you did in earlier task, make a request to GitHub Events API with the required headers, convert the response to JSON, extract the following fields and store in a DataFrame:\n",
    "Event id - json_response['event_id']  \n",
    "Name of the contributor - json_response['actor']['login']  \n",
    "Name of the repository - json_response['repository']['name']  \n",
    "Type of event - json_response['type']  \n",
    "Time of event - json_response['created_at']\n",
    "\n",
    "#### Hint: Query the GitHubEvents API for all contributors. Append the obtained JSON result to a list of JSONs. Process one dictionary after other to get your required fields and store them in another list of dictionaries. Finally convert this dictionaty to DataFrame. OR You can directly convert the list of JSONs to DataFrame using pd.json_normalize() and select the required columns alone.\n",
    "\n",
    "#### The resultant dataframe should have all the recent events performed by all the contributors and the following columns should be present in them - event_id, contributor, repo_name, event_type, created_at.\n"
   ]
  },
  {
   "cell_type": "code",
   "execution_count": 43,
   "id": "3b8b35af-92af-4ffd-8d99-2dd34d865ac1",
   "metadata": {},
   "outputs": [],
   "source": [
    "# YOUR CODE BELOW\n"
   ]
  },
  {
   "cell_type": "markdown",
   "id": "afca3310-5bef-48f5-be38-e0861d5c43b6",
   "metadata": {},
   "source": [
    "### Question 2 (a)\n",
    "\n",
    "#### Compute the median number of events per event group for Bot+Apps and Humans and write in DataFrame.\n",
    "\n",
    "Row should correspond to type (Bot_App and Human), Column should have Event group name and the values should be the median value of Bot_App or Human for that particular event group. An example is given below"
   ]
  },
  {
   "cell_type": "code",
   "execution_count": 44,
   "id": "ef89644a-1f38-4e67-81ab-c54db8d6c0ad",
   "metadata": {},
   "outputs": [
    {
     "data": {
      "text/html": [
       "<div>\n",
       "<style scoped>\n",
       "    .dataframe tbody tr th:only-of-type {\n",
       "        vertical-align: middle;\n",
       "    }\n",
       "\n",
       "    .dataframe tbody tr th {\n",
       "        vertical-align: top;\n",
       "    }\n",
       "\n",
       "    .dataframe thead th {\n",
       "        text-align: right;\n",
       "    }\n",
       "</style>\n",
       "<table border=\"1\" class=\"dataframe\">\n",
       "  <thead>\n",
       "    <tr style=\"text-align: right;\">\n",
       "      <th></th>\n",
       "      <th>event_group</th>\n",
       "      <th>median</th>\n",
       "      <th>type</th>\n",
       "    </tr>\n",
       "  </thead>\n",
       "  <tbody>\n",
       "    <tr>\n",
       "      <th>0</th>\n",
       "      <td>event_group1</td>\n",
       "      <td>val1</td>\n",
       "      <td>Bot_app</td>\n",
       "    </tr>\n",
       "    <tr>\n",
       "      <th>1</th>\n",
       "      <td>event_group1</td>\n",
       "      <td>val2</td>\n",
       "      <td>Human</td>\n",
       "    </tr>\n",
       "    <tr>\n",
       "      <th>2</th>\n",
       "      <td>event_group2</td>\n",
       "      <td>val3</td>\n",
       "      <td>Bot_app</td>\n",
       "    </tr>\n",
       "    <tr>\n",
       "      <th>3</th>\n",
       "      <td>event_group2</td>\n",
       "      <td>val4</td>\n",
       "      <td>Human</td>\n",
       "    </tr>\n",
       "    <tr>\n",
       "      <th>4</th>\n",
       "      <td>event_group3</td>\n",
       "      <td>val5</td>\n",
       "      <td>Bot_app</td>\n",
       "    </tr>\n",
       "    <tr>\n",
       "      <th>5</th>\n",
       "      <td>event_group3</td>\n",
       "      <td>val6</td>\n",
       "      <td>Human</td>\n",
       "    </tr>\n",
       "    <tr>\n",
       "      <th>6</th>\n",
       "      <td>event_group4</td>\n",
       "      <td>val7</td>\n",
       "      <td>Bot_app</td>\n",
       "    </tr>\n",
       "    <tr>\n",
       "      <th>7</th>\n",
       "      <td>event_group5</td>\n",
       "      <td>val8</td>\n",
       "      <td>Human</td>\n",
       "    </tr>\n",
       "  </tbody>\n",
       "</table>\n",
       "</div>"
      ],
      "text/plain": [
       "    event_group median     type\n",
       "0  event_group1   val1  Bot_app\n",
       "1  event_group1   val2    Human\n",
       "2  event_group2   val3  Bot_app\n",
       "3  event_group2   val4    Human\n",
       "4  event_group3   val5  Bot_app\n",
       "5  event_group3   val6    Human\n",
       "6  event_group4   val7  Bot_app\n",
       "7  event_group5   val8    Human"
      ]
     },
     "execution_count": 44,
     "metadata": {},
     "output_type": "execute_result"
    }
   ],
   "source": [
    "# For example:\n",
    "medians = [{'event_group': 'event_group1', 'median': 'val1', 'type': 'Bot_app'}, \n",
    "           {'event_group': 'event_group1', 'median': 'val2', 'type': 'Human'},\n",
    "           {'event_group': 'event_group2', 'median': 'val3', 'type': 'Bot_app'},\n",
    "           {'event_group': 'event_group2', 'median': 'val4', 'type': 'Human'},\n",
    "           {'event_group': 'event_group3', 'median': 'val5', 'type': 'Bot_app'},\n",
    "           {'event_group': 'event_group3', 'median': 'val6', 'type': 'Human'},\n",
    "           {'event_group': 'event_group4', 'median': 'val7', 'type': 'Bot_app'},\n",
    "           {'event_group': 'event_group5', 'median': 'val8', 'type': 'Human'}]\n",
    "df_medians = pd.DataFrame.from_dict(medians)\n",
    "df_medians"
   ]
  },
  {
   "cell_type": "code",
   "execution_count": 45,
   "id": "1c3dc1ce-f19c-44b7-8fa1-35df0ffaa936",
   "metadata": {},
   "outputs": [],
   "source": [
    "# YOUR CODE BELOW"
   ]
  },
  {
   "cell_type": "markdown",
   "id": "8eafa8a6-3c98-41db-bebd-64adc634f77f",
   "metadata": {},
   "source": [
    "### Question 2 (b)\n",
    "\n",
    "Plot a heatmap of the DataFrame using seaborn - \n",
    "1. First convert the dataframe to the required format using pivot, example is given below\n",
    "2. plot using seaborn - sns.heatmap(df_medians, annot=True, vmin=0, vmax=300, cmap=\"crest\"). More details: https://seaborn.pydata.org/generated/seaborn.heatmap.html)"
   ]
  },
  {
   "cell_type": "markdown",
   "id": "2bd13bb8-628d-444e-b4a2-9887378a9cef",
   "metadata": {},
   "source": [
    "#### pd.pivot example:\n",
    "<a id='pivot_example'></a>"
   ]
  },
  {
   "cell_type": "code",
   "execution_count": 46,
   "id": "3fbf8d1e-86ba-4b86-8bfc-d1bba83c63a8",
   "metadata": {},
   "outputs": [
    {
     "data": {
      "text/html": [
       "<div>\n",
       "<style scoped>\n",
       "    .dataframe tbody tr th:only-of-type {\n",
       "        vertical-align: middle;\n",
       "    }\n",
       "\n",
       "    .dataframe tbody tr th {\n",
       "        vertical-align: top;\n",
       "    }\n",
       "\n",
       "    .dataframe thead th {\n",
       "        text-align: right;\n",
       "    }\n",
       "</style>\n",
       "<table border=\"1\" class=\"dataframe\">\n",
       "  <thead>\n",
       "    <tr style=\"text-align: right;\">\n",
       "      <th></th>\n",
       "      <th>event_group</th>\n",
       "      <th>median</th>\n",
       "      <th>type</th>\n",
       "    </tr>\n",
       "  </thead>\n",
       "  <tbody>\n",
       "    <tr>\n",
       "      <th>0</th>\n",
       "      <td>event_group1</td>\n",
       "      <td>val1</td>\n",
       "      <td>Bot_app</td>\n",
       "    </tr>\n",
       "    <tr>\n",
       "      <th>1</th>\n",
       "      <td>event_group1</td>\n",
       "      <td>val2</td>\n",
       "      <td>Human</td>\n",
       "    </tr>\n",
       "    <tr>\n",
       "      <th>2</th>\n",
       "      <td>event_group2</td>\n",
       "      <td>val3</td>\n",
       "      <td>Bot_app</td>\n",
       "    </tr>\n",
       "    <tr>\n",
       "      <th>3</th>\n",
       "      <td>event_group2</td>\n",
       "      <td>val4</td>\n",
       "      <td>Human</td>\n",
       "    </tr>\n",
       "    <tr>\n",
       "      <th>4</th>\n",
       "      <td>event_group3</td>\n",
       "      <td>val5</td>\n",
       "      <td>Bot_app</td>\n",
       "    </tr>\n",
       "    <tr>\n",
       "      <th>5</th>\n",
       "      <td>event_group3</td>\n",
       "      <td>val6</td>\n",
       "      <td>Human</td>\n",
       "    </tr>\n",
       "    <tr>\n",
       "      <th>6</th>\n",
       "      <td>event_group4</td>\n",
       "      <td>val7</td>\n",
       "      <td>Bot_app</td>\n",
       "    </tr>\n",
       "    <tr>\n",
       "      <th>7</th>\n",
       "      <td>event_group5</td>\n",
       "      <td>val8</td>\n",
       "      <td>Human</td>\n",
       "    </tr>\n",
       "  </tbody>\n",
       "</table>\n",
       "</div>"
      ],
      "text/plain": [
       "    event_group median     type\n",
       "0  event_group1   val1  Bot_app\n",
       "1  event_group1   val2    Human\n",
       "2  event_group2   val3  Bot_app\n",
       "3  event_group2   val4    Human\n",
       "4  event_group3   val5  Bot_app\n",
       "5  event_group3   val6    Human\n",
       "6  event_group4   val7  Bot_app\n",
       "7  event_group5   val8    Human"
      ]
     },
     "execution_count": 46,
     "metadata": {},
     "output_type": "execute_result"
    }
   ],
   "source": [
    "# Main DataFrame\n",
    "medians = [{'event_group': 'event_group1', 'median': 'val1', 'type': 'Bot_app'}, \n",
    "           {'event_group': 'event_group1', 'median': 'val2', 'type': 'Human'},\n",
    "           {'event_group': 'event_group2', 'median': 'val3', 'type': 'Bot_app'},\n",
    "           {'event_group': 'event_group2', 'median': 'val4', 'type': 'Human'},\n",
    "           {'event_group': 'event_group3', 'median': 'val5', 'type': 'Bot_app'},\n",
    "           {'event_group': 'event_group3', 'median': 'val6', 'type': 'Human'},\n",
    "           {'event_group': 'event_group4', 'median': 'val7', 'type': 'Bot_app'},\n",
    "           {'event_group': 'event_group5', 'median': 'val8', 'type': 'Human'}]\n",
    "df_medians = pd.DataFrame.from_dict(medians)\n",
    "df_medians"
   ]
  },
  {
   "cell_type": "code",
   "execution_count": 47,
   "id": "816f28a7-c281-4808-b987-5d74a1c08271",
   "metadata": {},
   "outputs": [
    {
     "data": {
      "text/html": [
       "<div>\n",
       "<style scoped>\n",
       "    .dataframe tbody tr th:only-of-type {\n",
       "        vertical-align: middle;\n",
       "    }\n",
       "\n",
       "    .dataframe tbody tr th {\n",
       "        vertical-align: top;\n",
       "    }\n",
       "\n",
       "    .dataframe thead th {\n",
       "        text-align: right;\n",
       "    }\n",
       "</style>\n",
       "<table border=\"1\" class=\"dataframe\">\n",
       "  <thead>\n",
       "    <tr style=\"text-align: right;\">\n",
       "      <th>event_group</th>\n",
       "      <th>event_group1</th>\n",
       "      <th>event_group2</th>\n",
       "      <th>event_group3</th>\n",
       "      <th>event_group4</th>\n",
       "      <th>event_group5</th>\n",
       "    </tr>\n",
       "    <tr>\n",
       "      <th>type</th>\n",
       "      <th></th>\n",
       "      <th></th>\n",
       "      <th></th>\n",
       "      <th></th>\n",
       "      <th></th>\n",
       "    </tr>\n",
       "  </thead>\n",
       "  <tbody>\n",
       "    <tr>\n",
       "      <th>Bot_app</th>\n",
       "      <td>val1</td>\n",
       "      <td>val3</td>\n",
       "      <td>val5</td>\n",
       "      <td>val7</td>\n",
       "      <td>NaN</td>\n",
       "    </tr>\n",
       "    <tr>\n",
       "      <th>Human</th>\n",
       "      <td>val2</td>\n",
       "      <td>val4</td>\n",
       "      <td>val6</td>\n",
       "      <td>NaN</td>\n",
       "      <td>val8</td>\n",
       "    </tr>\n",
       "  </tbody>\n",
       "</table>\n",
       "</div>"
      ],
      "text/plain": [
       "event_group event_group1 event_group2 event_group3 event_group4 event_group5\n",
       "type                                                                        \n",
       "Bot_app             val1         val3         val5         val7          NaN\n",
       "Human               val2         val4         val6          NaN         val8"
      ]
     },
     "execution_count": 47,
     "metadata": {},
     "output_type": "execute_result"
    }
   ],
   "source": [
    "# pivot the main DataFrame\n",
    "df_medians.pivot(index='type', columns='event_group', values='median')#.reset_index().rename_axis(None,axis=1)"
   ]
  },
  {
   "cell_type": "code",
   "execution_count": 48,
   "id": "24478c26-f367-4589-85dc-3cfa22614f3e",
   "metadata": {},
   "outputs": [],
   "source": [
    "# YOUR CODE BELOW"
   ]
  },
  {
   "cell_type": "code",
   "execution_count": 49,
   "id": "ab7b9ff6-1286-4c5b-a604-5459b6d2b099",
   "metadata": {},
   "outputs": [],
   "source": [
    "# YOUR CODE BELOW\n"
   ]
  },
  {
   "cell_type": "markdown",
   "id": "19d518fd-10f0-4f91-a38e-595fe89f36a2",
   "metadata": {},
   "source": [
    "#### What is the difference that you observe between Bots+Apps and Humans?"
   ]
  },
  {
   "cell_type": "code",
   "execution_count": null,
   "id": "df3a1600-7110-4866-9de3-42b85b407722",
   "metadata": {},
   "outputs": [],
   "source": []
  },
  {
   "cell_type": "markdown",
   "id": "1bbc377f-79bb-4b52-9bba-fe7cc4a804ab",
   "metadata": {},
   "source": [
    "#### What is the differnce that you observe between Event groups?"
   ]
  },
  {
   "cell_type": "code",
   "execution_count": null,
   "id": "064cc1a2-c910-47a8-b327-deba02a815a1",
   "metadata": {},
   "outputs": [],
   "source": []
  },
  {
   "cell_type": "markdown",
   "id": "5e941d75-0450-46f4-9345-d7f109ff9b92",
   "metadata": {},
   "source": [
    "#### What is the difference that you observe between Bots+Apps and Humans and Event groups all considering at the same time?"
   ]
  },
  {
   "cell_type": "code",
   "execution_count": null,
   "id": "7145cbf9-e9a6-4798-aa23-54428bc7f73b",
   "metadata": {},
   "outputs": [],
   "source": []
  },
  {
   "cell_type": "markdown",
   "id": "5c402f2c-2628-4957-ac76-e48bb85564cf",
   "metadata": {},
   "source": [
    "### Question 3"
   ]
  },
  {
   "cell_type": "markdown",
   "id": "b7fd623c-4bc5-4cef-9649-fb8cdd41e981",
   "metadata": {},
   "source": [
    "#### Create box plots or boxen plots or violin plots or a combination of these to visualise the distribution of number of events in each event group. \n",
    "#### For more information you can visit - https://seaborn.pydata.org/tutorial/categorical.html#categorical-tutorial  \n",
    "#### For violin plots - https://seaborn.pydata.org/generated/seaborn.violinplot.html  \n",
    "#### You should highlight the data points that correspond to bots using a stripplot in seaborn. https://seaborn.pydata.org/tutorial/categorical.html#categorical-tutorial  \n",
    "#### Interpret the results of the visualisation."
   ]
  },
  {
   "cell_type": "code",
   "execution_count": 50,
   "id": "21a499ac-e0c7-4b0d-9f90-78b704a13ef2",
   "metadata": {},
   "outputs": [],
   "source": [
    "# YOUR CODE BELOW - Visualize number of events from pull request event group\n"
   ]
  },
  {
   "cell_type": "code",
   "execution_count": 51,
   "id": "330c9d73-28a9-4d83-9728-cf595374235b",
   "metadata": {},
   "outputs": [],
   "source": [
    "# YOUR CODE BELOW - Visualise number of events from issue event group\n"
   ]
  },
  {
   "cell_type": "code",
   "execution_count": 52,
   "id": "a7ec1644-8c4d-4bd8-b504-3196ddab982e",
   "metadata": {},
   "outputs": [],
   "source": [
    "# YOUR CODE BELOW - Visualise number of events from commit event group\n"
   ]
  },
  {
   "cell_type": "code",
   "execution_count": 53,
   "id": "d1c2536a-0f6c-4f2e-a8a5-b07e8abf5217",
   "metadata": {},
   "outputs": [],
   "source": [
    "# YOUR CODE BELOW - Visualise number of events from repo event group\n"
   ]
  },
  {
   "cell_type": "markdown",
   "id": "a663a24f-ebbd-4707-a8e2-c4a72a9451a7",
   "metadata": {},
   "source": [
    "### Question 4.1"
   ]
  },
  {
   "cell_type": "markdown",
   "id": "ea2541bc-5f3a-4ce3-bfb1-21e16104b4c5",
   "metadata": {},
   "source": [
    "#### Statistical identify whether number of events in each event group is normally distributed or not.\n",
    "#### Null hypothesis - $H_0$: Sample comes from the data that has normal distribution.\n",
    "#### Use Shapiro-Wilk test for this purpose. Use the p-value with a threshold of 0.05 to determine whether $H_0$ can be rejected with statistical significance or not. \n",
    "\n",
    "#### Use shapiro from scipy.stats to perform this test (https://docs.scipy.org/doc/scipy/reference/generated/scipy.stats.shapiro.html)"
   ]
  },
  {
   "cell_type": "code",
   "execution_count": 54,
   "id": "d4273e9c-f29f-4b46-ab75-3ceb16a2aae6",
   "metadata": {},
   "outputs": [],
   "source": [
    "# YOUR CODE BELOW"
   ]
  },
  {
   "cell_type": "code",
   "execution_count": null,
   "id": "03c8617f-a3ed-40ad-8b2f-7ff0a41c3518",
   "metadata": {},
   "outputs": [],
   "source": []
  },
  {
   "cell_type": "markdown",
   "id": "e7ed78ce-6901-4ddb-a219-d5a8c4e26886",
   "metadata": {},
   "source": [
    "### Question 4.2\n",
    "#### Determine if there is any statistical diﬀerence in number of events between the identified event groups. Perform this test on all pairs of event groups. \n",
    "#### Null hypothesis - $H_0$: Any two event group come from the same population.\n",
    "#### If $H_0$ is rejected in Shapiro-Wilk test (at least for one of the two event groups considered for test), use the Mann-Whitney U statistical test for this purpose. If $H_0$ is not rejected in Shapiro-Wilk test, use the independent t-test for this purpose.  \n",
    "#### In any case, use the p-value with a threshold of 0.01 to determine whether $H_0$ can be rejected with statistical significance. \n",
    "\n",
    "#### Use mannwhitneyu from scipy.stats to perform Mann-Whitney U test (https://docs.scipy.org/doc/scipy/reference/generated/scipy.stats.mannwhitneyu.html) \n",
    "#### or \n",
    "#### ttest_ind from scipy.stats to perform independent t-test https://docs.scipy.org/doc/scipy/reference/generated/scipy.stats.ttest_ind.html."
   ]
  },
  {
   "cell_type": "markdown",
   "id": "3d3fe255-f6a8-4c49-92aa-1859c98d51c1",
   "metadata": {},
   "source": [
    "#### More information:\n",
    "\n",
    "You can pass the following arguments to mannwhitneyu from scipy.stats - (method='exact', nan_policy='omit'). For ttest_ind you can use - (nan_policy='omit')"
   ]
  },
  {
   "cell_type": "code",
   "execution_count": 55,
   "id": "7e7c952f-15a8-4634-b786-90ff1e8f20da",
   "metadata": {},
   "outputs": [],
   "source": [
    "# YOUR CODE BELOW"
   ]
  },
  {
   "cell_type": "markdown",
   "id": "f443dbbc-a8f1-4281-aadb-8ec8f9c792da",
   "metadata": {},
   "source": [
    "### Question 5\n",
    "#### Each time you reject the null hypothesis $H_0$, quantify the effect size of the diﬀerence between the groups using cliﬀ’s delta ($\\delta$). \n",
    "#### To calculate cliﬀ’s delta, you can pass the list of values to cliﬀ delta.py file given in the repository. E.g., cliffsDelta.cliffsDelta(list of values). This will return the effect size and its interpretation (negligible, small, medium, large)."
   ]
  },
  {
   "cell_type": "code",
   "execution_count": 56,
   "id": "c19a6054-933f-425b-971e-d54a429c901d",
   "metadata": {},
   "outputs": [],
   "source": [
    "# YOU CODE BELOW"
   ]
  },
  {
   "cell_type": "markdown",
   "id": "3cd1e637-c222-4497-b8b6-a61252349bdc",
   "metadata": {},
   "source": [
    "### Qusetion 6"
   ]
  },
  {
   "cell_type": "markdown",
   "id": "d0056ddd-2f2e-49a8-9bda-c4117be7fda7",
   "metadata": {},
   "source": [
    "#### Create violinplots to visualise the distributions for the following metrics and answer the questions that follow it. You should highlight the data points corresponding to bots using a stripplot in seaborn.\n",
    "\n",
    "#### Hint:\n",
    "\n",
    "1. Merge you DataFrame of event with the type of contributor that you identified in section 3.\n",
    "2. Write a function that you will use for all the seaborn plots. This way you can reduce duplication and update it easily."
   ]
  },
  {
   "cell_type": "code",
   "execution_count": 57,
   "id": "c7d168b2-50d9-41a8-84ca-3f40fddaaf39",
   "metadata": {},
   "outputs": [],
   "source": [
    "# YOUR CODE BELOW - function for seaborn plot\n"
   ]
  },
  {
   "cell_type": "markdown",
   "id": "04f0e866-0588-40b4-8834-a5722e55d7f2",
   "metadata": {},
   "source": [
    "#### Total number of events"
   ]
  },
  {
   "cell_type": "code",
   "execution_count": 58,
   "id": "51e9fca8-4f73-428b-b5ef-d7d7f80a4820",
   "metadata": {},
   "outputs": [],
   "source": [
    "# YOUR CODE BELOW"
   ]
  },
  {
   "cell_type": "markdown",
   "id": "06b79e67-83b8-4f1a-9436-b462e786e7bd",
   "metadata": {},
   "source": [
    "#### Number of event types"
   ]
  },
  {
   "cell_type": "code",
   "execution_count": 59,
   "id": "1f485dcb-900c-4cbb-bb77-06702156d738",
   "metadata": {},
   "outputs": [],
   "source": [
    "# YOUR CODE BELOW"
   ]
  },
  {
   "cell_type": "markdown",
   "id": "e12f1d24-58c4-4da2-a258-64b3f0890aba",
   "metadata": {},
   "source": [
    "#### Mean number of events per event type"
   ]
  },
  {
   "cell_type": "code",
   "execution_count": 60,
   "id": "46259ecf-ed64-40b8-b43a-0bf3a2a74444",
   "metadata": {},
   "outputs": [],
   "source": [
    "# YOUR CODE BELOW"
   ]
  },
  {
   "cell_type": "markdown",
   "id": "27470611-0758-4007-809b-61406d11e168",
   "metadata": {},
   "source": [
    "#### Mean number of events per event group"
   ]
  },
  {
   "cell_type": "code",
   "execution_count": 61,
   "id": "62068e1f-24de-481b-a3e2-18ae1f246c00",
   "metadata": {},
   "outputs": [],
   "source": [
    "# YOUR CODE BELOW"
   ]
  },
  {
   "cell_type": "markdown",
   "id": "19f6a36a-5db2-4476-86da-8d08038846cb",
   "metadata": {},
   "source": [
    "#### Gini coeﬃcient of time between consecutive event"
   ]
  },
  {
   "cell_type": "code",
   "execution_count": 62,
   "id": "7632b026-bf64-4757-b96b-9d6938592fed",
   "metadata": {},
   "outputs": [],
   "source": [
    "def time_diffs(time_stamps):\n",
    "    diff_time_stamps = np.array([])\n",
    "    for i in range(len(time_stamps)-1):\n",
    "        diff = (time_stamps.iloc[i+1] - time_stamps.iloc[i])/pd.to_timedelta('1 second')\n",
    "        diff_time_stamps = np.append(diff_time_stamps, [diff])\n",
    "    return(diff_time_stamps)"
   ]
  },
  {
   "cell_type": "code",
   "execution_count": 63,
   "id": "44b4da8d-74aa-4852-b810-b947396eb9c2",
   "metadata": {},
   "outputs": [],
   "source": [
    "def gini(time_stamps):\n",
    "    '''\n",
    "    args: time_stamps - Series of time stamps for a contributor\n",
    "    \n",
    "    return: g_coeff - float that gives gini coefficient\n",
    "    \n",
    "    method: calculate the Gini coefficient of a numpy array\n",
    "    '''\n",
    "    array = time_diffs(time_stamps)\n",
    "    array = array[array!=0]\n",
    "    if len(array) == 0:\n",
    "        return np.float64(0.0)\n",
    "    array = array.flatten()\n",
    "    array = np.sort(array)\n",
    "    index = np.arange(1, array.shape[0] + 1)\n",
    "    n = array.shape[0]\n",
    "    g_coeff = (np.sum((2 * index - n - 1) * array)) / (n * np.sum(array))\n",
    "    \n",
    "    return (g_coeff.round(4))"
   ]
  },
  {
   "cell_type": "markdown",
   "id": "4d438245-7514-441c-82f3-879e40654c40",
   "metadata": {},
   "source": [
    "You can pass a Series of time-stamps to gini(time_stamps) function to get the Gini coeﬃcient\n",
    "#### Hint:\n",
    "1. Groupby the contributors on 'contributor' and use gini as .agg function on 'created_at'.\n",
    "2. Merge the resultant DataFram with their type (the df that you got in section 4)\n",
    "3. Make box/boxen/violin plots on those gini values"
   ]
  },
  {
   "cell_type": "code",
   "execution_count": 64,
   "id": "fd745a1f-abe2-4538-8af6-e6004991cd2e",
   "metadata": {},
   "outputs": [],
   "source": [
    "# YOUR CODE BELOW\n"
   ]
  },
  {
   "cell_type": "code",
   "execution_count": 65,
   "id": "90504834-e64e-4c1f-b102-733bacae2934",
   "metadata": {},
   "outputs": [],
   "source": [
    "# YOUR CODE BELOW\n"
   ]
  },
  {
   "cell_type": "markdown",
   "id": "e49d9ca9-e5db-4a9d-8c0e-91a9203b546d",
   "metadata": {},
   "source": [
    "### Question 6.1"
   ]
  },
  {
   "cell_type": "markdown",
   "id": "64d6beec-e66b-4c4f-b75a-2fc5a20e9cf1",
   "metadata": {},
   "source": [
    "#### Do you ﬁnd any set of accounts having a diverging behaviour? (Hint: look for outliers.)"
   ]
  },
  {
   "cell_type": "code",
   "execution_count": null,
   "id": "4ae0da5d-52f3-4dc3-8051-8955a31b6de6",
   "metadata": {},
   "outputs": [],
   "source": []
  },
  {
   "cell_type": "markdown",
   "id": "163bc987-51d9-4d18-9120-a38267219d26",
   "metadata": {},
   "source": [
    "### Question 6.2"
   ]
  },
  {
   "cell_type": "markdown",
   "id": "9521d008-1576-4212-98f9-e0740278f106",
   "metadata": {},
   "source": [
    "#### What is the type of the accounts that have diverging behaviour?"
   ]
  },
  {
   "cell_type": "code",
   "execution_count": null,
   "id": "b4a4f4e7-f497-43b2-b889-c8431f9c3f54",
   "metadata": {},
   "outputs": [],
   "source": []
  },
  {
   "cell_type": "markdown",
   "id": "2f0886b1-158f-4e59-83f0-1f8753605fb5",
   "metadata": {},
   "source": [
    "### Question 6.3"
   ]
  },
  {
   "cell_type": "markdown",
   "id": "92a22e22-5b3f-4637-b3c3-d0992b3b0219",
   "metadata": {},
   "source": [
    "#### Do bots have different behaviour than apps? Motivate your answer"
   ]
  },
  {
   "cell_type": "code",
   "execution_count": null,
   "id": "6807c449-d489-46a8-8749-3602685f8351",
   "metadata": {},
   "outputs": [],
   "source": []
  },
  {
   "cell_type": "markdown",
   "id": "b3ad5bea-d77e-45bb-9aff-014845fd648f",
   "metadata": {},
   "source": [
    "### Question 6.4"
   ]
  },
  {
   "cell_type": "markdown",
   "id": "eca85aad-3c25-405b-bcc2-35abf4b3641b",
   "metadata": {},
   "source": [
    "#### Do bots and apps have a diﬀerent behaviour from human accounts? (Hint: in the box plots ﬁnd where the bots and apps are located and find where the humans are located)"
   ]
  },
  {
   "cell_type": "code",
   "execution_count": null,
   "id": "6f4f524e-4651-40fd-8ad1-fb7c82f55126",
   "metadata": {},
   "outputs": [],
   "source": []
  },
  {
   "cell_type": "markdown",
   "id": "a02b6b1b-bdc4-4e2d-8ec8-12fc89737c92",
   "metadata": {},
   "source": [
    "### Question 6.5"
   ]
  },
  {
   "cell_type": "markdown",
   "id": "a15bc77c-e7b7-403b-8974-84f86caa3d77",
   "metadata": {},
   "source": [
    "#### Do all bots (other than outliers) have the same behaviour? List the bots that have a diﬀerent behaviour. Mention your interpretation on the cause of this diverging behaviour compared to other bots?"
   ]
  },
  {
   "cell_type": "code",
   "execution_count": null,
   "id": "1cc51551-8155-4a24-a80b-22ac56b78c33",
   "metadata": {},
   "outputs": [],
   "source": []
  },
  {
   "cell_type": "code",
   "execution_count": null,
   "id": "476c050c-dffa-469c-94f3-568b8c74712e",
   "metadata": {},
   "outputs": [],
   "source": []
  }
 ],
 "metadata": {
  "kernelspec": {
   "display_name": "Python 3 (ipykernel)",
   "language": "python",
   "name": "python3"
  },
  "language_info": {
   "codemirror_mode": {
    "name": "ipython",
    "version": 3
   },
   "file_extension": ".py",
   "mimetype": "text/x-python",
   "name": "python",
   "nbconvert_exporter": "python",
   "pygments_lexer": "ipython3",
   "version": "3.10.9"
  }
 },
 "nbformat": 4,
 "nbformat_minor": 5
}
